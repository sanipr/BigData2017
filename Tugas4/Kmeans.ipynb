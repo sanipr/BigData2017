{
 "cells": [
  {
   "cell_type": "code",
   "execution_count": 1,
   "metadata": {
    "collapsed": false
   },
   "outputs": [],
   "source": [
    "# Konfigurasi Spark\n",
    "import os\n",
    "import sys\n",
    "from pprint import pprint\n",
    "from matplotlib import pyplot\n",
    "\n",
    "# 1. Lokasi di mana Spark diinstal\n",
    "spark_path = \"/Users/sani/Kuliah/Sem8/BigData/spark-2.1.0-bin-hadoop2.7\"\n",
    "\n",
    "# 2. Menentukan environment variable\n",
    "os.environ['SPARK_HOME'] = spark_path\n",
    "\n",
    "\n",
    "# 3. Download winutils dari https://github.com/steveloughran/winutils/blob/master/hadoop-2.6.0/bin/winutils.exe?raw=true\n",
    "#   dan letakkan di dalam folder D:\\spark\\bin\\\n",
    "#   Lokasi winutils.exe\n",
    "os.environ['HADOOP_HOME'] = spark_path\n",
    "\n",
    "# 4. Lokasi Python yang dijalankan --> punya Anaconda\n",
    "#    Apabila Python yang diinstall hanya Anaconda, maka tidak perlu menjalankan baris ini.\n",
    "os.environ['PYSPARK_PYTHON'] = sys.executable\n",
    "\n",
    "# 5. Konfigurasi path library PySpark\n",
    "sys.path.append(spark_path + \"/bin\")\n",
    "sys.path.append(spark_path + \"/python\")\n",
    "sys.path.append(spark_path + \"/python/pyspark/\")\n",
    "sys.path.append(spark_path + \"/python/lib\")\n",
    "sys.path.append(spark_path + \"/python/lib/pyspark.zip\")\n",
    "sys.path.append(spark_path + \"/python/lib/py4j-0.10.4-src.zip\")\n",
    "\n",
    "#############################################################\n",
    "\n",
    "# from __future__ import print_function\n",
    "\n",
    "# $example on$\n",
    "from numpy import array\n",
    "from math import sqrt\n",
    "# $example off$\n",
    "\n",
    "from pyspark import SparkContext\n",
    "from pyspark import SparkConf\n",
    "# $example on$\n",
    "from pyspark.mllib.clustering import KMeans, KMeansModel\n",
    "# $example off$\n",
    "\n",
    "if __name__ == \"__main__\":\n",
    "    sc = SparkContext(appName=\"KMeansExample\")  # SparkContext\n",
    "\n",
    "\n",
    "# $example on$\n",
    "# Load and parse the data\n",
    "data = sc.textFile(\"/Users/sani/Kuliah/Sem8/BigData/BigData2017/Tugas4/complete.csv\")\n",
    "# parsedData = data.map(lambda line: array([x for x in line.split(',')]))\n",
    "    "
   ]
  },
  {
   "cell_type": "code",
   "execution_count": 2,
   "metadata": {
    "collapsed": false
   },
   "outputs": [
    {
     "data": {
      "text/plain": [
       "[[u'10/10/49 20:30',\n",
       "  u'san marcos',\n",
       "  u'tx',\n",
       "  u'us',\n",
       "  u'cylinder',\n",
       "  u'2700',\n",
       "  u'45 minutes',\n",
       "  u'This event took place in early fall around 1949-50. It occurred after a Boy Scout meeting in the Baptist Church. The Baptist Church sit',\n",
       "  u'4/27/04',\n",
       "  u'29.8830556',\n",
       "  u'-97.9411111'],\n",
       " [u'10/10/49 21:00',\n",
       "  u'lackland afb',\n",
       "  u'tx',\n",
       "  u'',\n",
       "  u'light',\n",
       "  u'7200',\n",
       "  u'1-2 hrs',\n",
       "  u'1949 Lackland AFB&#44 TX.  Lights racing across the sky &amp; making 90 degree turns on a dime.',\n",
       "  u'12/16/05',\n",
       "  u'29.38421',\n",
       "  u'-98.581082']]"
      ]
     },
     "execution_count": 2,
     "metadata": {},
     "output_type": "execute_result"
    }
   ],
   "source": [
    "header=data.first()\n",
    "# wohead=data.filter(lambda x:x != header)\n",
    "wohead=data.filter(lambda x:x != header).map(lambda x:x.split(','))\n",
    "wohead.take(2)"
   ]
  },
  {
   "cell_type": "code",
   "execution_count": 3,
   "metadata": {
    "collapsed": false
   },
   "outputs": [
    {
     "data": {
      "text/plain": [
       "[(u'29.8830556', u'-97.9411111'),\n",
       " (u'29.38421', u'-98.581082'),\n",
       " (u'53.2', u'-2.916667'),\n",
       " (u'28.9783333', u'-96.6458333'),\n",
       " (u'21.4180556', u'-157.8036111')]"
      ]
     },
     "execution_count": 3,
     "metadata": {},
     "output_type": "execute_result"
    }
   ],
   "source": [
    "latlang=wohead.map(lambda x: (x[9],x[10]))\n",
    "latlang.take(5)"
   ]
  },
  {
   "cell_type": "code",
   "execution_count": 4,
   "metadata": {
    "collapsed": false
   },
   "outputs": [
    {
     "data": {
      "text/plain": [
       "[(u'29.8830556', u'-97.9411111'),\n",
       " (u'29.38421', u'-98.581082'),\n",
       " (u'53.2', u'-2.916667'),\n",
       " (u'28.9783333', u'-96.6458333'),\n",
       " (u'21.4180556', u'-157.8036111')]"
      ]
     },
     "execution_count": 4,
     "metadata": {},
     "output_type": "execute_result"
    }
   ],
   "source": [
    "clean=latlang.filter(lambda x: \"0\" not in x)\n",
    "clean.take(5)"
   ]
  },
  {
   "cell_type": "code",
   "execution_count": 5,
   "metadata": {
    "collapsed": false
   },
   "outputs": [
    {
     "data": {
      "text/plain": [
       "[array([u'29.8830556', u'-97.9411111'], \n",
       "       dtype='<U11'), array([u'29.38421', u'-98.581082'], \n",
       "       dtype='<U10'), array([u'53.2', u'-2.916667'], \n",
       "       dtype='<U9'), array([u'28.9783333', u'-96.6458333'], \n",
       "       dtype='<U11'), array([u'21.4180556', u'-157.8036111'], \n",
       "       dtype='<U12')]"
      ]
     },
     "execution_count": 5,
     "metadata": {},
     "output_type": "execute_result"
    }
   ],
   "source": [
    "yeyee=clean.map(lambda line: array([x for x in line]))\n",
    "yeyee.take(5)"
   ]
  },
  {
   "cell_type": "code",
   "execution_count": 6,
   "metadata": {
    "collapsed": false,
    "scrolled": false
   },
   "outputs": [
    {
     "data": {
      "text/plain": [
       "[u'29.8830556 -97.9411111',\n",
       " u'29.38421 -98.581082',\n",
       " u'53.2 -2.916667',\n",
       " u'28.9783333 -96.6458333',\n",
       " u'21.4180556 -157.8036111']"
      ]
     },
     "execution_count": 6,
     "metadata": {},
     "output_type": "execute_result"
    }
   ],
   "source": [
    "yuhu=yeyee.map(lambda x: ' '.join(x[0:2]))\n",
    "yuhu.take(5)"
   ]
  },
  {
   "cell_type": "code",
   "execution_count": 7,
   "metadata": {
    "collapsed": false
   },
   "outputs": [
    {
     "data": {
      "text/plain": [
       "[array([u'29.8830556', u'-97.9411111'], \n",
       "       dtype='<U11'), array([u'29.38421', u'-98.581082'], \n",
       "       dtype='<U10'), array([u'53.2', u'-2.916667'], \n",
       "       dtype='<U9'), array([u'28.9783333', u'-96.6458333'], \n",
       "       dtype='<U11'), array([u'21.4180556', u'-157.8036111'], \n",
       "       dtype='<U12')]"
      ]
     },
     "execution_count": 7,
     "metadata": {},
     "output_type": "execute_result"
    }
   ],
   "source": [
    "lili=yuhu.map(lambda line: array([x for x in line.split(' ')]))\n",
    "lili.take(5)"
   ]
  },
  {
   "cell_type": "code",
   "execution_count": 8,
   "metadata": {
    "collapsed": false
   },
   "outputs": [
    {
     "data": {
      "text/plain": [
       "[array([ 29.8830556, -97.9411111]),\n",
       " array([ 29.38421 , -98.581082]),\n",
       " array([ 53.2     ,  -2.916667]),\n",
       " array([ 28.9783333, -96.6458333]),\n",
       " array([  21.4180556, -157.8036111])]"
      ]
     },
     "execution_count": 8,
     "metadata": {},
     "output_type": "execute_result"
    }
   ],
   "source": [
    "parsedData=lili.map(lambda x: array([float(x[0]),float(x[1])]))\n",
    "parsedData.take(5)"
   ]
  },
  {
   "cell_type": "code",
   "execution_count": 9,
   "metadata": {
    "collapsed": false
   },
   "outputs": [
    {
     "name": "stdout",
     "output_type": "stream",
     "text": [
      "Within Set Sum of Squared Error = 841854.205586\n"
     ]
    }
   ],
   "source": [
    "    # Build the model (cluster the data)\n",
    "    clusters = KMeans.train(parsedData,5, maxIterations=100, initializationMode=\"random\")\n",
    "    \n",
    "    # Evaluate clustering by computing Within Set Sum of Squared Errors\n",
    "    def error(point):\n",
    "        center = clusters.centers[clusters.predict(point)]\n",
    "        return sqrt(sum([x**2 for x in (point - center)]))\n",
    "\n",
    "    WSSSE = parsedData.map(lambda point: error(point)).reduce(lambda x, y: x + y)\n",
    "    print(\"Within Set Sum of Squared Error = \" + str(WSSSE))\n",
    "\n",
    "    # Save and load model\n",
    "#     clusters.save(sc, \"target/org/apache/spark/PythonKMeansExample/KMeansModel\")\n",
    "#     sameModel = KMeansModel.load(sc, \"target/org/apache/spark/PythonKMeansExample/KMeansModel\")\n",
    "#     # $example off$\n",
    "\n",
    "#     sc.stop()"
   ]
  },
  {
   "cell_type": "code",
   "execution_count": 10,
   "metadata": {
    "collapsed": false
   },
   "outputs": [
    {
     "data": {
      "text/plain": [
       "[2, 2, 3, 2, 0, 1, 3, 4, 1, 1, 0, 1, 4, 1, 1]"
      ]
     },
     "execution_count": 10,
     "metadata": {},
     "output_type": "execute_result"
    }
   ],
   "source": [
    "clusterdata=parsedData.map(lambda point: clusters.predict(point))\n",
    "clusterdata.take(15)"
   ]
  },
  {
   "cell_type": "code",
   "execution_count": null,
   "metadata": {
    "collapsed": true
   },
   "outputs": [],
   "source": []
  }
 ],
 "metadata": {
  "kernelspec": {
   "display_name": "Python 2",
   "language": "python",
   "name": "python2"
  },
  "language_info": {
   "codemirror_mode": {
    "name": "ipython",
    "version": 2
   },
   "file_extension": ".py",
   "mimetype": "text/x-python",
   "name": "python",
   "nbconvert_exporter": "python",
   "pygments_lexer": "ipython2",
   "version": "2.7.13"
  }
 },
 "nbformat": 4,
 "nbformat_minor": 2
}
