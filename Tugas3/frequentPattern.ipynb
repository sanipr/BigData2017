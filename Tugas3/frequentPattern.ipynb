{
 "cells": [
  {
   "cell_type": "code",
   "execution_count": 1,
   "metadata": {
    "collapsed": false
   },
   "outputs": [
    {
     "name": "stdout",
     "output_type": "stream",
     "text": [
      "<pyspark.context.SparkContext object at 0x10962cd10>\n"
     ]
    }
   ],
   "source": [
    "# Konfigurasi Spark\n",
    "import os\n",
    "import sys\n",
    "\n",
    "# 1. Lokasi di mana Spark diinstal\n",
    "spark_path = \"/Users/sani/Kuliah/Sem8/BigData/spark-2.1.0-bin-hadoop2.7\"\n",
    "\n",
    "# 2. Menentukan environment variable\n",
    "os.environ['SPARK_HOME'] = spark_path\n",
    "\n",
    "\n",
    "# 3. Download winutils dari https://github.com/steveloughran/winutils/blob/master/hadoop-2.6.0/bin/winutils.exe?raw=true\n",
    "#   dan letakkan di dalam folder D:\\spark\\bin\\\n",
    "#   Lokasi winutils.exe\n",
    "os.environ['HADOOP_HOME'] = spark_path\n",
    "\n",
    "# 4. Lokasi Python yang dijalankan --> punya Anaconda\n",
    "#    Apabila Python yang diinstall hanya Anaconda, maka tidak perlu menjalankan baris ini.\n",
    "os.environ['PYSPARK_PYTHON'] = sys.executable\n",
    "\n",
    "# 5. Konfigurasi path library PySpark\n",
    "sys.path.append(spark_path + \"/bin\")\n",
    "sys.path.append(spark_path + \"/python\")\n",
    "sys.path.append(spark_path + \"/python/pyspark/\")\n",
    "sys.path.append(spark_path + \"/python/lib\")\n",
    "sys.path.append(spark_path + \"/python/lib/pyspark.zip\")\n",
    "sys.path.append(spark_path + \"/python/lib/py4j-0.10.4-src.zip\")\n",
    "\n",
    "from pyspark import SparkContext\n",
    "from pyspark import SparkConf\n",
    "\n",
    "sc = SparkContext(\"local\", \"test\")\n",
    "\n",
    "print sc"
   ]
  },
  {
   "cell_type": "code",
   "execution_count": 2,
   "metadata": {
    "collapsed": false
   },
   "outputs": [
    {
     "name": "stdout",
     "output_type": "stream",
     "text": [
      "FreqItemset(items=[u'bajuputih'], freq=7)\n",
      "FreqItemset(items=[u'sepatucoklat'], freq=6)\n",
      "FreqItemset(items=[u'rokhitam'], freq=6)\n",
      "FreqItemset(items=[u'celanahitam'], freq=5)\n",
      "FreqItemset(items=[u'jilbabcoklat'], freq=5)\n",
      "FreqItemset(items=[u'jilbabcoklat', u'rokhitam'], freq=3)\n",
      "FreqItemset(items=[u'jilbabcoklat', u'sepatucoklat'], freq=3)\n",
      "FreqItemset(items=[u'jilbabcoklat', u'bajuputih'], freq=3)\n",
      "FreqItemset(items=[u'jilbabmerah'], freq=3)\n",
      "FreqItemset(items=[u'sepatuputih'], freq=3)\n",
      "FreqItemset(items=[u'sepatuputih', u'bajuputih'], freq=3)\n",
      "FreqItemset(items=[u'jilbabhitam'], freq=3)\n",
      "FreqItemset(items=[u'bajuhitam'], freq=3)\n"
     ]
    }
   ],
   "source": [
    "from pyspark.mllib.fpm import FPGrowth\n",
    "\n",
    "data = sc.textFile(\"/Users/sani/Kuliah/Sem8/BigData/Tugas 3/pakaian.txt\")\n",
    "transactions = data.map(lambda line: line.strip().split(' '))\n",
    "model = FPGrowth.train(transactions, minSupport=0.1, numPartitions=10)\n",
    "result = model.freqItemsets().collect()\n",
    "for fi in result:\n",
    "    print(fi)"
   ]
  },
  {
   "cell_type": "code",
   "execution_count": null,
   "metadata": {
    "collapsed": true
   },
   "outputs": [],
   "source": []
  }
 ],
 "metadata": {
  "kernelspec": {
   "display_name": "Python 2",
   "language": "python",
   "name": "python2"
  },
  "language_info": {
   "codemirror_mode": {
    "name": "ipython",
    "version": 2
   },
   "file_extension": ".py",
   "mimetype": "text/x-python",
   "name": "python",
   "nbconvert_exporter": "python",
   "pygments_lexer": "ipython2",
   "version": "2.7.13"
  }
 },
 "nbformat": 4,
 "nbformat_minor": 2
}
